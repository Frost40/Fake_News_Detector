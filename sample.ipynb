{
 "cells": [
  {
   "metadata": {},
   "cell_type": "markdown",
   "source": [
    "# This is a sample Jupyter Notebook\n",
    "\n",
    "Below is an example of a code cell. \n",
    "Put your cursor into the cell and press Shift+Enter to execute it and select the next one, or click !here goes the icon of the corresponding button in the gutter! button.\n",
    "To debug a cell, press Alt+Shift+Enter, or click !here goes the icon of the corresponding button in the gutter! button.\n",
    "\n",
    "Press Double Shift to search everywhere for classes, files, tool windows, actions, and settings.\n",
    "\n",
    "To learn more about Jupyter Notebooks in PyCharm, see [help](https://www.jetbrains.com/help/pycharm/jupyter-notebook-support.html).\n",
    "For an overview of PyCharm, go to Help -> Learn IDE features or refer to [our documentation](https://www.jetbrains.com/help/pycharm/getting-started.html)."
   ],
   "id": "8a77807f92f26ee"
  },
  {
   "metadata": {
    "ExecuteTime": {
     "end_time": "2025-02-18T15:56:14.924848Z",
     "start_time": "2025-02-18T15:56:13.905931Z"
    }
   },
   "cell_type": "code",
   "source": [
    "import numpy as np\n",
    "import pandas as pd\n",
    "import itertools\n",
    "from sklearn.model_selection import train_test_split\n",
    "from sklearn.feature_extraction.text import TfidfVectorizer\n",
    "from sklearn.linear_model import PassiveAggressiveClassifier\n",
    "from sklearn.metrics import accuracy_score, confusion_matrix"
   ],
   "id": "fbc121e30a2defb3",
   "outputs": [],
   "execution_count": 2
  },
  {
   "metadata": {},
   "cell_type": "markdown",
   "source": [
    "## Data reading\n",
    "\n",
    "---\n",
    "Through the pandas function ```read_csv``` the set containing all the news is assigned to the ```df``` variable for easy access\n",
    "\n",
    "- ```.shape```:  \n",
    "This is an attribute of the DataFrame that returns a tuple representing the dimensions of the DataFrame.\n",
    "The tuple consists of two elements:\n",
    "The first element is the number of rows (observations) in the DataFrame.\n",
    "The second element is the number of columns (features) in the DataFrame."
   ],
   "id": "d86af54490546829"
  },
  {
   "metadata": {
    "ExecuteTime": {
     "end_time": "2025-02-18T15:56:20.692239Z",
     "start_time": "2025-02-18T15:56:20.437660Z"
    }
   },
   "cell_type": "code",
   "source": [
    "#Read the data\n",
    "df = pd.read_csv('data/news.csv')\n",
    "\n",
    "#Get shape and head\n",
    "df.shape\n",
    "df.head()"
   ],
   "id": "1a62b9a61b1c985b",
   "outputs": [
    {
     "data": {
      "text/plain": [
       "   Unnamed: 0                                              title  \\\n",
       "0        8476                       You Can Smell Hillary’s Fear   \n",
       "1       10294  Watch The Exact Moment Paul Ryan Committed Pol...   \n",
       "2        3608        Kerry to go to Paris in gesture of sympathy   \n",
       "3       10142  Bernie supporters on Twitter erupt in anger ag...   \n",
       "4         875   The Battle of New York: Why This Primary Matters   \n",
       "\n",
       "                                                text label  \n",
       "0  Daniel Greenfield, a Shillman Journalism Fello...  FAKE  \n",
       "1  Google Pinterest Digg Linkedin Reddit Stumbleu...  FAKE  \n",
       "2  U.S. Secretary of State John F. Kerry said Mon...  REAL  \n",
       "3  — Kaydee King (@KaydeeKing) November 9, 2016 T...  FAKE  \n",
       "4  It's primary day in New York and front-runners...  REAL  "
      ],
      "text/html": [
       "<div>\n",
       "<style scoped>\n",
       "    .dataframe tbody tr th:only-of-type {\n",
       "        vertical-align: middle;\n",
       "    }\n",
       "\n",
       "    .dataframe tbody tr th {\n",
       "        vertical-align: top;\n",
       "    }\n",
       "\n",
       "    .dataframe thead th {\n",
       "        text-align: right;\n",
       "    }\n",
       "</style>\n",
       "<table border=\"1\" class=\"dataframe\">\n",
       "  <thead>\n",
       "    <tr style=\"text-align: right;\">\n",
       "      <th></th>\n",
       "      <th>Unnamed: 0</th>\n",
       "      <th>title</th>\n",
       "      <th>text</th>\n",
       "      <th>label</th>\n",
       "    </tr>\n",
       "  </thead>\n",
       "  <tbody>\n",
       "    <tr>\n",
       "      <th>0</th>\n",
       "      <td>8476</td>\n",
       "      <td>You Can Smell Hillary’s Fear</td>\n",
       "      <td>Daniel Greenfield, a Shillman Journalism Fello...</td>\n",
       "      <td>FAKE</td>\n",
       "    </tr>\n",
       "    <tr>\n",
       "      <th>1</th>\n",
       "      <td>10294</td>\n",
       "      <td>Watch The Exact Moment Paul Ryan Committed Pol...</td>\n",
       "      <td>Google Pinterest Digg Linkedin Reddit Stumbleu...</td>\n",
       "      <td>FAKE</td>\n",
       "    </tr>\n",
       "    <tr>\n",
       "      <th>2</th>\n",
       "      <td>3608</td>\n",
       "      <td>Kerry to go to Paris in gesture of sympathy</td>\n",
       "      <td>U.S. Secretary of State John F. Kerry said Mon...</td>\n",
       "      <td>REAL</td>\n",
       "    </tr>\n",
       "    <tr>\n",
       "      <th>3</th>\n",
       "      <td>10142</td>\n",
       "      <td>Bernie supporters on Twitter erupt in anger ag...</td>\n",
       "      <td>— Kaydee King (@KaydeeKing) November 9, 2016 T...</td>\n",
       "      <td>FAKE</td>\n",
       "    </tr>\n",
       "    <tr>\n",
       "      <th>4</th>\n",
       "      <td>875</td>\n",
       "      <td>The Battle of New York: Why This Primary Matters</td>\n",
       "      <td>It's primary day in New York and front-runners...</td>\n",
       "      <td>REAL</td>\n",
       "    </tr>\n",
       "  </tbody>\n",
       "</table>\n",
       "</div>"
      ]
     },
     "execution_count": 3,
     "metadata": {},
     "output_type": "execute_result"
    }
   ],
   "execution_count": 3
  },
  {
   "metadata": {},
   "cell_type": "markdown",
   "source": [
    "## Label extraction\n",
    "\n",
    "---\n",
    "```labels = df.label```:  \n",
    "This line extracts the 'label' column from the DataFrame df.\n",
    "df is assumed to be a Pandas DataFrame that contains various columns, one of which is named 'label'.\n",
    "The extracted labels are stored in the variable labels.\n",
    "The labels variable will be a Pandas Series containing the values from the 'label' column.\n",
    "\n",
    "&nbsp;\n",
    "\n",
    "### Displaying the First Few Entries:\n",
    "\n",
    "---\n",
    "```labels.head()```:  \n",
    "This method is called on the labels Series.\n",
    "It returns the first five entries of the Series by default.\n",
    "This is useful for quickly inspecting the data to ensure it has been extracted correctly and to understand the distribution of labels."
   ],
   "id": "946e08b622697018"
  },
  {
   "metadata": {
    "ExecuteTime": {
     "end_time": "2025-02-18T15:56:25.638652Z",
     "start_time": "2025-02-18T15:56:25.631440Z"
    }
   },
   "cell_type": "code",
   "source": [
    "#DataFlair - Get the labels\n",
    "labels = df.label\n",
    "labels.head()"
   ],
   "id": "37a0a9331e3128c8",
   "outputs": [
    {
     "data": {
      "text/plain": [
       "0    FAKE\n",
       "1    FAKE\n",
       "2    REAL\n",
       "3    FAKE\n",
       "4    REAL\n",
       "Name: label, dtype: object"
      ]
     },
     "execution_count": 4,
     "metadata": {},
     "output_type": "execute_result"
    }
   ],
   "execution_count": 4
  },
  {
   "metadata": {},
   "cell_type": "markdown",
   "source": [
    "## Creating training and testing subsets from news.csv\n",
    "\n",
    "---\n",
    "The ```train_test_split``` function is part of the ```sklearn.model_selection``` module in the Scikit-learn library.\n",
    "It splits arrays or matrices into random train and test subsets.\n",
    "\n",
    "&nbsp;\n",
    "\n",
    "### Parameters:\n",
    "\n",
    "---\n",
    "1. ```df['text']```:  \n",
    "This is the feature set (input data) that you want to split.\n",
    "Here, df is assumed to be a Pandas DataFrame, and ['text'] indicates that you are selecting the column named 'text' which contains the text data for your model.\n",
    "2. ```labels:```  \n",
    "This represents the target variable (output data) that you want to predict.\n",
    "It should be a list or array-like structure containing the corresponding labels for the text data.\n",
    "3. ```test_size=0.2:```  \n",
    "This parameter specifies the proportion of the dataset to include in the test split.\n",
    "A value of 0.2 means that 20% of the data will be used for testing, while 80% will be used for training.\n",
    "4. ```random_state=7:```  \n",
    "This parameter controls the shuffling applied to the data before splitting.\n",
    "Setting a specific integer (like 7) ensures reproducibility, meaning that every time you run the code, you will get the same split of the dataset.\n",
    "\n",
    "&nbsp;\n",
    "\n",
    "### Output Variables:\n",
    "\n",
    "---\n",
    "1. ```x_train:```  \n",
    "This variable will contain the training set of features (text data).\n",
    "2. ```x_test:```  \n",
    "This variable will contain the test set of features (text data).\n",
    "3. ```y_train:```  \n",
    "This variable will contain the training set of labels (target variable).\n",
    "4. ```y_test:```  \n",
    "This variable will contain the test set of labels (target variable)."
   ],
   "id": "2eb61f40b6083985"
  },
  {
   "metadata": {
    "ExecuteTime": {
     "end_time": "2025-02-18T15:56:34.041396Z",
     "start_time": "2025-02-18T15:56:34.029490Z"
    }
   },
   "cell_type": "code",
   "source": [
    "#DataFlair - Split the dataset\n",
    "x_train, x_test, y_train, y_test = train_test_split(df['text'], labels, test_size = 0.2, random_state = 7)"
   ],
   "id": "2ea1d93233e19d6",
   "outputs": [],
   "execution_count": 5
  },
  {
   "metadata": {},
   "cell_type": "markdown",
   "source": [
    "## TfidfVectorizer\n",
    "\n",
    "---\n",
    "The ```TfidfVectorizer``` is a tool used in natural language processing (NLP) to convert a collection of raw documents into a matrix of TF-IDF features.   \n",
    "**TF-IDF** stands for Term Frequency-Inverse Document Frequency, which is a statistical measure used to evaluate the importance of a word in a document relative to a collection of documents (corpus).\n",
    "\n",
    "&nbsp;\n",
    "In particular:\n",
    "- **TF**: Term Frequency measures how often a term appears in a document. It reflects the importance of a term within that specific document.  \n",
    "\n",
    "    &nbsp;\n",
    "    \n",
    "    Interpretation:  \n",
    "    - A higher TF indicates that the term is more relevant to the document's content.  \n",
    "    - However, TF alone does not account for the term's importance across the entire corpus, which can lead to common words being overrepresented.\n",
    "- **IDF**: It measures how much information a term provides, i.e., how common or rare it is across all documents in the corpus. It helps to reduce the weight of common terms that appear in many documents.  \n",
    "\n",
    "    &nbsp;\n",
    "    \n",
    "    Interpretation:  \n",
    "    - A higher IDF score indicates that the term is rare across the corpus and thus more informative.\n",
    "    - If a term appears in all documents, its IDF score will be low (approaching zero), indicating it is not useful for distinguishing between documents.\n",
    "\n",
    "&nbsp;\n",
    "\n",
    "### Parameters\n",
    "\n",
    "---\n",
    "1. ```stop_words='english'```:  \n",
    "This parameter specifies that common English stop words (e.g., \"the\", \"is\", \"in\") should be ignored during the vectorization process.\n",
    "Removing stop words helps to focus on the more meaningful words in the text, which can improve the performance of machine learning models.\n",
    "2. ```max_df=0.7```:  \n",
    "This parameter sets a threshold for filtering out terms that appear in a high proportion of documents.\n",
    "A value of 0.7 means that any term that appears in more than 70% of the documents will be ignored.\n",
    "This helps to remove common terms that are not useful for distinguishing between documents.  \n",
    "\n",
    "&nbsp;\n",
    "\n",
    "### Example of a TF-IDF Matrix\n",
    "\n",
    "---\n",
    "Let's consider the following three documents:\n",
    "\n",
    "1. **Document 1**: \"This is a sample document.\"\n",
    "2. **Document 2**: \"This document is another example.\"\n",
    "3. **Document 3**: \"And this is yet another document.\"\n",
    "\n",
    "&nbsp;\n",
    "\n",
    "Here’s how the TF-IDF matrix would look after processing the above documents:\n",
    "\n",
    "| _Terms_:  | and   | another | document | example | is    | sample | this  | yet   |\n",
    "|-----------|-------|---------|----------|---------|-------|--------|-------|-------|\n",
    "| **Doc 1** | 0.00  | 0.00    | 0.577    | 0.00    | 0.577 | 0.577  | 0.577 | 0.00  |\n",
    "| **Doc 2** | 0.00  | 0.577   | 0.577    | 0.577   | 0.577 | 0.00   | 0.577 | 0.00  |\n",
    "| **Doc 3** | 0.577 | 0.577   | 0.577    | 0.00    | 0.577 | 0.00   | 0.00  | 0.577 |\n",
    "\n",
    "### Explanation of the Matrix\n",
    "- **Rows**: Each row corresponds to a document.\n",
    "- **Columns**: Each column corresponds to a unique term extracted from the documents.\n",
    "- **Values**: The values in the matrix represent the TF-IDF score for each term in each document. A higher score indicates that the term is more important in that document.\n",
    "\n",
    "### Interpretation\n",
    "- **Document 1**: The term \"document\" has a TF-IDF score of 0.577, indicating it is significant in this document. The term \"sample\" also has a score of 0.577, showing its importance.\n",
    "- **Document 2**: The term \"another\" has a high score of 0.577, indicating its relevance in this document, along with \"document\" and \"example.\"\n",
    "- **Document 3**: The term \"and\" and \"yet\" have scores of 0.577, indicating their importance in this document."
   ],
   "id": "8c3532856ace2e43"
  },
  {
   "metadata": {
    "ExecuteTime": {
     "end_time": "2025-02-18T15:56:50.500368Z",
     "start_time": "2025-02-18T15:56:49.057384Z"
    }
   },
   "cell_type": "code",
   "source": [
    "#DataFlair - Initialize a TfidfVectorizer\n",
    "tfidf_vectorizer = TfidfVectorizer(stop_words = 'english', max_df = 0.7)\n",
    "\n",
    "#DataFlair - Fit and transform train set, transform test set\n",
    "tfidf_train = tfidf_vectorizer.fit_transform(x_train) \n",
    "tfidf_test = tfidf_vectorizer.transform(x_test)"
   ],
   "id": "6b7f65b87d1c89c1",
   "outputs": [],
   "execution_count": 6
  },
  {
   "metadata": {},
   "cell_type": "markdown",
   "source": [
    "## PassiveAggressiveClassifier\n",
    "\n",
    "---\n",
    "The Passive Aggressive Classifier is a type of linear classifier that is particularly well-suited for large-scale learning tasks, especially in text classification problems. It is part of the Scikit-learn library and is designed to handle online learning, where the model is updated incrementally as new data arrives.\n",
    "\n",
    "&nbsp;\n",
    "### Key Characteristics\n",
    "\n",
    "---\n",
    "1. Online Learning:  \n",
    "   The Passive Aggressive Classifier is designed for online learning, meaning it can update its model with each new training example rather than requiring the entire dataset to be retrained.\n",
    "2. Passive and Aggressive Updates:  \n",
    "   The name \"Passive Aggressive\" refers to the way the algorithm updates its weights\n",
    "    - Passive Update: When the prediction is correct, the model does not change its weights.\n",
    "    - Aggressive Update: When the prediction is incorrect, the model aggressively adjusts its weights to minimize the error.\n",
    "\n",
    "\n",
    "### How It Works\n",
    "\n",
    "---\n",
    "1. **Loss Function**:  \n",
    "The Passive Aggressive Classifier uses a hinge loss function, which is common in support vector machines (SVM). The hinge loss penalizes misclassifications and encourages the model to make correct predictions with a margin.\n",
    "\n",
    "2. **Weight Update Rule**:  \n",
    "If the prediction is correct, no update is made. Else, if the prediction is incorrect, the weights are updated.\n",
    "\n",
    "3. **Regularization**:  \n",
    "    The Passive Aggressive Classifier includes a regularization term to prevent overfitting. The regularization parameter (```C``` Parameter) can be adjusted to control the trade-off between fitting the training data and maintaining a simpler model.  \n",
    "    This parameter is optional and inversely controls the strength of regularization. A smaller value of C applies stronger regularization, which can help prevent overfitting, while a larger value allows the model to fit the training data more closely.  \n",
    "    - Code example with the regularization parameter:\n",
    "        ```\n",
    "            pac = PassiveAggressiveClassifier(max_iter=50, C=1.0)  # C=1.0 is the regularization strength\n",
    "        ```\n",
    "  \n",
    "### Phases\n",
    "\n",
    "---\n",
    "1. **Initialization**:  \n",
    "    ```max_iter``` is a hyperparameter that sets the upper limit on the number of iterations the optimization algorithm will perform while fitting the model to the training data.\n",
    "    - **Purpose**: It helps to control the convergence of the algorithm. If the algorithm does not converge to a solution within the specified number of iterations, it will stop and return the best solution found so far.\n",
    "    - **Impact**: Setting max_iter too low may result in an underfitted model if the algorithm does not have enough iterations to converge. Conversely, setting it too high may lead to unnecessary computation time without significant improvements in model performance.\n",
    "2. **Model Training**:  \n",
    "    The ```fit``` method is called to train the classifier using the training data (```tfidf_train```) and the corresponding labels (```y_train```).\n",
    "    The model learns to associate the TF-IDF features with the labels provided.\n",
    "3. **Making Predictions**:  \n",
    "The ```predict``` method is used to make predictions on the test set (```tfidf_test```).\n",
    "The predicted labels are stored in the variable ```y_pred```.\n",
    "4. **Calculating Accuracy**:  \n",
    "The ```accuracy_score``` function from ```Scikit-learn``` is used to calculate the accuracy of the model.\n",
    "It compares the true labels (```y_test```) with the predicted labels (```y_pred```) and returns the proportion of correct predictions."
   ],
   "id": "2b7db892bc5fd20"
  },
  {
   "metadata": {
    "ExecuteTime": {
     "end_time": "2025-02-18T15:57:03.580439Z",
     "start_time": "2025-02-18T15:57:03.517374Z"
    }
   },
   "cell_type": "code",
   "source": [
    "#DataFlair - Initialize a PassiveAggressiveClassifier\n",
    "pac = PassiveAggressiveClassifier(max_iter=50)\n",
    "pac.fit(tfidf_train, y_train)\n",
    "\n",
    "#DataFlair - Predict on the test set and calculate accuracy\n",
    "y_pred = pac.predict(tfidf_test)\n",
    "score = accuracy_score(y_test, y_pred)\n",
    "print(f'Accuracy: {round(score*100,2)}%')"
   ],
   "id": "c28972b3a740633c",
   "outputs": [
    {
     "name": "stdout",
     "output_type": "stream",
     "text": [
      "Accuracy: 92.42%\n"
     ]
    }
   ],
   "execution_count": 7
  },
  {
   "metadata": {},
   "cell_type": "markdown",
   "source": [
    "## Confusion metrix\n",
    "\n",
    "---\n",
    "While the accuracy score is a commonly used metric for evaluating the performance of a classification model, it does not provide a complete picture of the model's performance. Here are several reasons why a confusion matrix is essential, even when you have the accuracy score:\n",
    "\n",
    "### 1. Detailed Performance Insights\n",
    "- Class-wise Performance:  \n",
    "The confusion matrix breaks down the performance of the model for each class. It shows how many instances were correctly classified (True Positives and True Negatives) and how many were misclassified (False Positives and False Negatives).\n",
    "- Error Analysis:  \n",
    "By examining the confusion matrix, you can identify specific classes where the model is performing poorly. For example, if a model has high accuracy but consistently misclassifies a particular class, this can be crucial information for model improvement.\n",
    "### 2. Imbalanced Datasets\n",
    "- Accuracy Limitations:  \n",
    "In cases of imbalanced datasets (where one class significantly outnumbers another), accuracy can be misleading. For instance, if 95% of the data belongs to one class, a model that predicts all instances as that class can achieve 95% accuracy, but it would not be useful.\n",
    "- Confusion Matrix Utility:  \n",
    "The confusion matrix provides a more nuanced view of performance, allowing you to see how well the model is performing across all classes, regardless of their distribution.\n",
    "### 3. Computation of Other Metrics\n",
    "The confusion matrix allows for the calculation of other important evaluation metrics, such as:\n",
    "- Precision:  \n",
    "The ratio of true positive predictions to the total predicted positives.\n",
    "- Recall (Sensitivity):  \n",
    "The ratio of true positive predictions to the total actual positives.\n",
    "- F1 Score:  \n",
    "The harmonic mean of precision and recall, providing a balance between the two.\n",
    "\n",
    "These metrics can be critical for understanding the trade-offs between false positives and false negatives, especially in applications where one type of error is more costly than the other (e.g., medical diagnoses).\n",
    "### 4. Visual Representation\n",
    "- Easier Interpretation:  \n",
    "The confusion matrix provides a visual representation of the model's performance, making it easier to interpret and communicate results to stakeholders.\n",
    "- Heatmaps:  \n",
    "Confusion matrices can be visualized as heatmaps, which can quickly highlight areas of concern in the model's predictions."
   ],
   "id": "5a189e800f766f09"
  },
  {
   "metadata": {
    "ExecuteTime": {
     "end_time": "2025-02-18T15:57:07.226521Z",
     "start_time": "2025-02-18T15:57:07.214679Z"
    }
   },
   "cell_type": "code",
   "source": [
    "#DataFlair - Build confusion matrix\n",
    "confusion_matrix(y_test, y_pred, labels=['FAKE','REAL'])"
   ],
   "id": "91aafdd66d6e104a",
   "outputs": [
    {
     "data": {
      "text/plain": [
       "array([[585,  53],\n",
       "       [ 43, 586]])"
      ]
     },
     "execution_count": 8,
     "metadata": {},
     "output_type": "execute_result"
    }
   ],
   "execution_count": 8
  },
  {
   "metadata": {},
   "cell_type": "code",
   "outputs": [],
   "execution_count": null,
   "source": "",
   "id": "3553165347ef7add"
  }
 ],
 "metadata": {
  "kernelspec": {
   "display_name": "Python 3",
   "language": "python",
   "name": "python3"
  },
  "language_info": {
   "codemirror_mode": {
    "name": "ipython",
    "version": 2
   },
   "file_extension": ".py",
   "mimetype": "text/x-python",
   "name": "python",
   "nbconvert_exporter": "python",
   "pygments_lexer": "ipython2",
   "version": "2.7.6"
  }
 },
 "nbformat": 4,
 "nbformat_minor": 5
}
